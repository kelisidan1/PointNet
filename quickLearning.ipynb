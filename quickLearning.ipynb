{
 "cells": [
  {
   "cell_type": "code",
   "execution_count": 23,
   "outputs": [],
   "source": [
    "import torch\n",
    "import torch.nn as nn\n",
    "import torch.optim as optim\n",
    "from model import myPointNet\n",
    "import torch.utils.data as data\n",
    "\n",
    "# 针对dataset\n",
    "import os\n",
    "import numpy as np\n",
    "from torch.utils.data import Dataset\n",
    "from dataset import ShapenetBinaryDataset\n",
    "from sklearn.model_selection import train_test_split\n",
    "from torch.utils.data import DataLoader"
   ],
   "metadata": {
    "collapsed": false,
    "pycharm": {
     "name": "#%%\n"
    }
   }
  },
  {
   "cell_type": "code",
   "execution_count": 24,
   "outputs": [],
   "source": [
    "# 步骤 1: 准备数据集（假设已有数据集）\n",
    "dataset = ShapenetBinaryDataset(data_dir='data', class_labels=['airplane', 'backpack'])\n",
    "train_data, test_data = train_test_split(dataset, test_size=0.2, random_state=42)"
   ],
   "metadata": {
    "collapsed": false,
    "pycharm": {
     "name": "#%%\n"
    }
   }
  },
  {
   "cell_type": "code",
   "execution_count": 25,
   "outputs": [],
   "source": [
    "# 创建训练集 DataLoader\n",
    "train_data_loader = DataLoader(train_data, batch_size=8, shuffle=True)\n",
    "# 创建测试集 DataLoader\n",
    "test_data_loader = DataLoader(test_data, batch_size=8, shuffle=False)"
   ],
   "metadata": {
    "collapsed": false,
    "pycharm": {
     "name": "#%%\n"
    }
   }
  },
  {
   "cell_type": "code",
   "execution_count": 26,
   "outputs": [
    {
     "name": "stdout",
     "output_type": "stream",
     "text": [
      "2\n",
      "8\n",
      "[tensor([[[ 9.2870e-02, -2.1650e-02,  2.9110e-02],\n",
      "         [-1.4087e-01, -6.7560e-02, -1.2300e-02],\n",
      "         [ 1.5680e-01, -5.0140e-02, -3.2960e-02],\n",
      "         ...,\n",
      "         [-3.0471e-01, -1.1040e-02, -1.0680e-02],\n",
      "         [ 5.3100e-03, -5.0460e-02,  1.7272e-01],\n",
      "         [-1.9430e-02, -1.8700e-02, -2.7700e-02]],\n",
      "\n",
      "        [[-1.4211e-01,  2.9911e-01, -8.4270e-02],\n",
      "         [ 1.4566e-01,  1.1990e-02, -1.3365e-01],\n",
      "         [ 1.4566e-01,  6.3170e-02, -1.1807e-01],\n",
      "         ...,\n",
      "         [-1.1258e-01, -2.7780e-02,  2.8352e-01],\n",
      "         [-1.0501e-01, -1.0349e-01,  1.8457e-01],\n",
      "         [-9.4020e-02, -2.1341e-01, -3.3270e-02]],\n",
      "\n",
      "        [[ 3.1540e-02, -4.8740e-02,  2.0822e-01],\n",
      "         [ 3.7450e-02,  1.5284e-01, -1.5407e-01],\n",
      "         [ 5.8800e-03,  1.4230e-02, -1.0871e-01],\n",
      "         ...,\n",
      "         [-1.5740e-02, -2.1077e-01, -3.3002e-01],\n",
      "         [-1.9880e-02, -3.1905e-01, -3.6272e-01],\n",
      "         [-3.4750e-02, -3.2559e-01, -3.6470e-01]],\n",
      "\n",
      "        ...,\n",
      "\n",
      "        [[ 3.6560e-02, -3.2131e-01, -2.1688e-01],\n",
      "         [-7.6000e-02, -3.2180e-01, -2.0223e-01],\n",
      "         [ 7.1000e-02, -2.9885e-01,  3.2613e-01],\n",
      "         ...,\n",
      "         [-9.1300e-03,  2.4284e-01, -1.6265e-01],\n",
      "         [-7.2900e-03,  1.9679e-01,  1.8070e-01],\n",
      "         [-3.5890e-02, -7.9600e-02,  3.3920e-02]],\n",
      "\n",
      "        [[ 2.4181e-01, -5.1990e-02, -4.0840e-02],\n",
      "         [ 2.7860e-02, -5.8990e-02,  1.5364e-01],\n",
      "         [ 2.5900e-02, -1.0383e-01, -8.0620e-02],\n",
      "         ...,\n",
      "         [ 2.8030e-02, -5.6960e-02, -7.8400e-02],\n",
      "         [ 1.0208e-01, -8.7630e-02,  1.4020e-01],\n",
      "         [-2.2780e-02, -7.6980e-02,  1.5263e-01]],\n",
      "\n",
      "        [[-1.3531e-01, -1.9170e-01, -2.2426e-01],\n",
      "         [-6.6220e-02,  2.0824e-01,  1.3388e-01],\n",
      "         [-1.5000e-04, -6.8770e-02, -9.2740e-02],\n",
      "         ...,\n",
      "         [-1.5350e-02,  1.3672e-01,  1.3331e-01],\n",
      "         [-6.2000e-04,  1.2400e-02, -1.7669e-01],\n",
      "         [ 2.8400e-03,  5.3860e-02, -1.4405e-01]]]), tensor([0, 1, 1, 0, 1, 1, 0, 1])]\n"
     ]
    }
   ],
   "source": [
    "data_iter = iter(train_data_loader)\n",
    "\n",
    "# 获取下一个数据批次\n",
    "batch = next(data_iter)\n",
    "\n",
    "# 打印批次内容\n",
    "print(len(batch))\n",
    "print(len(batch[0]))\n",
    "print(batch)"
   ],
   "metadata": {
    "collapsed": false,
    "pycharm": {
     "name": "#%%\n"
    }
   }
  },
  {
   "cell_type": "code",
   "execution_count": 27,
   "outputs": [],
   "source": [
    "# 步骤 2: 定义模型\n",
    "pointNet_model = myPointNet()\n",
    "\n",
    "# 步骤 3: 选择损失函数\n",
    "criterion = nn.CrossEntropyLoss()  # 使用交叉熵损失\n",
    "\n",
    "# 步骤 4: 选择优化器\n",
    "optimizer = optim.SGD(pointNet_model.parameters(), lr=0.01)"
   ],
   "metadata": {
    "collapsed": false,
    "pycharm": {
     "name": "#%%\n"
    }
   }
  },
  {
   "cell_type": "code",
   "execution_count": 33,
   "outputs": [
    {
     "name": "stdout",
     "output_type": "stream",
     "text": [
      "tensor([3, 6, 9])\n"
     ]
    }
   ],
   "source": [
    "import torch\n",
    "\n",
    "# 创建一个示例张量\n",
    "x = torch.tensor([[[1, 2, 3],\n",
    "                  [4, 5, 6],\n",
    "                  [7, 8, 9]]])\n",
    "\n",
    "# 在第2维中找到每列的最大值\n",
    "result = torch.max(x, 2, keepdim=True)[0]\n",
    "result = result.view(-1, 3)\n",
    "# 输出结果\n",
    "print(result)"
   ],
   "metadata": {
    "collapsed": false,
    "pycharm": {
     "name": "#%%\n"
    }
   }
  },
  {
   "cell_type": "code",
   "execution_count": 34,
   "outputs": [
    {
     "data": {
      "text/plain": "(65536,\n tensor([[[0.0000, 0.0000, 0.0234],\n          [0.0000, 0.0307, 0.0000],\n          [0.0015, 0.0000, 0.0010]],\n \n         [[0.0000, 0.0000, 0.0234],\n          [0.0000, 0.0307, 0.0000],\n          [0.0015, 0.0000, 0.0010]],\n \n         [[0.0000, 0.0000, 0.0234],\n          [0.0000, 0.0307, 0.0000],\n          [0.0015, 0.0000, 0.0010]],\n \n         ...,\n \n         [[0.0000, 0.0000, 0.0234],\n          [0.0000, 0.0307, 0.0000],\n          [0.0015, 0.0000, 0.0010]],\n \n         [[0.0000, 0.0000, 0.0234],\n          [0.0000, 0.0307, 0.0000],\n          [0.0015, 0.0000, 0.0010]],\n \n         [[0.0000, 0.0000, 0.0234],\n          [0.0000, 0.0307, 0.0000],\n          [0.0015, 0.0000, 0.0010]]], grad_fn=<ViewBackward0>))"
     },
     "execution_count": 34,
     "metadata": {},
     "output_type": "execute_result"
    }
   ],
   "source": [
    "import torch.nn as nn\n",
    "from torch.autograd import Variable\n",
    "import torch\n",
    "import numpy as np\n",
    "class STD3(nn.Module):\n",
    "    def __init__(self):\n",
    "        super(STD3, self).__init__()\n",
    "        self.model = nn.Sequential(\n",
    "            nn.Conv1d(3,64,1),\n",
    "            nn.BatchNorm1d(64),\n",
    "            nn.ReLU(),\n",
    "            nn.Conv1d(64,128,1),\n",
    "            nn.BatchNorm1d(128),\n",
    "            nn.ReLU(),\n",
    "            nn.Conv1d(128,1024,1),\n",
    "            nn.BatchNorm1d(1024),\n",
    "            nn.ReLU(),\n",
    "            nn.MaxPool1d(1),\n",
    "            nn.Linear(1024,512),\n",
    "            nn.ReLU(),\n",
    "            nn.Linear(512,256),\n",
    "            nn.ReLU(),\n",
    "            nn.Linear(256,9),\n",
    "            nn.ReLU(),\n",
    "        )\n",
    "    def forward(self,x):\n",
    "        batchsize = len(x)\n",
    "        x = self.model(x)\n",
    "        # iden = Variable(torch.from_numpy(np.array([1,0,0,0,1,0,0,0,1]).astype(np.float32))).view(1,9).repeat(batchsize,1)\n",
    "        # x+=iden\n",
    "        x = x.view((-1,3,3))\n",
    "        return x\n",
    "#验证一下T-Net创建的是否正确\n",
    "input = torch.ones((64,3,1024)) # 因为用的是Conv1d 所以需要X,Y轴相互替换 (batch_size, num_features, num_points)\n",
    "test = STD3()\n",
    "output = test(input)\n",
    "len(output),output"
   ],
   "metadata": {
    "collapsed": false,
    "pycharm": {
     "name": "#%%\n"
    }
   }
  },
  {
   "cell_type": "code",
   "execution_count": 8,
   "outputs": [],
   "source": [
    "import torch.nn as nn\n",
    "import torch.nn.functional as F\n",
    "from torch.autograd import Variable\n",
    "import numpy as np\n",
    "class STN3d(nn.Module):\n",
    "    def __init__(self):\n",
    "        super(STN3d, self).__init__()\n",
    "        self.conv1 = torch.nn.Conv1d(3, 64, 1)\n",
    "        self.conv2 = torch.nn.Conv1d(64, 128, 1)\n",
    "        self.conv3 = torch.nn.Conv1d(128, 1024, 1)\n",
    "        self.fc1 = nn.Linear(1024, 512)\n",
    "        self.fc2 = nn.Linear(512, 256)\n",
    "        self.fc3 = nn.Linear(256, 9)\n",
    "        self.relu = nn.ReLU()\n",
    "\n",
    "        self.bn1 = nn.BatchNorm1d(64) # 归一化 => 防止过拟合&加快收敛\n",
    "        self.bn2 = nn.BatchNorm1d(128) # 归一化 => 防止过拟合&加快收敛\n",
    "        self.bn3 = nn.BatchNorm1d(1024) # 归一化 => 防止过拟合&加快收敛\n",
    "        self.bn4 = nn.BatchNorm1d(512) # 归一化 => 防止过拟合&加快收敛\n",
    "        self.bn5 = nn.BatchNorm1d(256) # 归一化 => 防止过拟合&加快收敛\n",
    "\n",
    "\n",
    "    def forward(self, x):\n",
    "        batchsize = x.size()[0]\n",
    "        x = F.relu(self.bn1(self.conv1(x)))\n",
    "        x = F.relu(self.bn2(self.conv2(x)))\n",
    "        x = F.relu(self.bn3(self.conv3(x)))\n",
    "        x = torch.max(x, 2, keepdim=True)[0] # 竖着的方向上找到 max\n",
    "        x = x.view(-1, 1024) # 变成1024列数据，行自己适应\n",
    "\n",
    "        x = F.relu(self.bn4(self.fc1(x)))\n",
    "        x = F.relu(self.bn5(self.fc2(x)))\n",
    "        x = self.fc3(x)\n",
    "\n",
    "        iden = Variable(torch.from_numpy(np.array([1,0,0,0,1,0,0,0,1]).astype(np.float32))).view(1,9).repeat(batchsize,1) # Variable可以把输出的Tensor变成一个输入变量，这样梯度就不会回传了。\n",
    "        if x.is_cuda:\n",
    "            iden = iden.cuda()\n",
    "        x = x + iden\n",
    "        x = x.view(-1, 3, 3)\n",
    "        return x"
   ],
   "metadata": {
    "collapsed": false,
    "pycharm": {
     "name": "#%%\n"
    }
   }
  },
  {
   "cell_type": "code",
   "execution_count": 9,
   "outputs": [
    {
     "name": "stdout",
     "output_type": "stream",
     "text": [
      "torch.Size([64, 3, 1024])\n",
      "----------------------------------------------------------------\n",
      "        Layer (type)               Output Shape         Param #\n",
      "================================================================\n",
      "            Conv1d-1              [64, 64, 100]             256\n",
      "       BatchNorm1d-2              [64, 64, 100]             128\n",
      "            Conv1d-3             [64, 128, 100]           8,320\n",
      "       BatchNorm1d-4             [64, 128, 100]             256\n",
      "            Conv1d-5            [64, 1024, 100]         132,096\n",
      "       BatchNorm1d-6            [64, 1024, 100]           2,048\n",
      "            Linear-7                  [64, 512]         524,800\n",
      "       BatchNorm1d-8                  [64, 512]           1,024\n",
      "            Linear-9                  [64, 256]         131,328\n",
      "      BatchNorm1d-10                  [64, 256]             512\n",
      "           Linear-11                    [64, 9]           2,313\n",
      "================================================================\n",
      "Total params: 803,081\n",
      "Trainable params: 803,081\n",
      "Non-trainable params: 0\n",
      "----------------------------------------------------------------\n",
      "Input size (MB): 0.07\n",
      "Forward/backward pass size (MB): 119.50\n",
      "Params size (MB): 3.06\n",
      "Estimated Total Size (MB): 122.64\n",
      "----------------------------------------------------------------\n",
      "torch.Size([64, 3, 3])\n"
     ]
    }
   ],
   "source": [
    "from torchsummary import summary\n",
    "import torch\n",
    "input = torch.ones((64,1024,3)) # 因为用的是Conv1d 所以需要X,Y轴相互替换 (batch_size, num_features, num_points)\n",
    "input = input.permute(0,2,1) # 让dim=1 和 dim=2 互换，因为这里用到的是一维卷积\n",
    "print(input.size())\n",
    "model = STN3d()\n",
    "input_size = (3, 100)  # 输入大小，注意这里的顺序是 (num_features, num_points)\n",
    "summary(model, input_size=input_size,batch_size=64)  # 适配你的设备\n",
    "print(model(input).size()) # 这一批我就搞一个"
   ],
   "metadata": {
    "collapsed": false,
    "pycharm": {
     "name": "#%%\n"
    }
   }
  }
 ],
 "metadata": {
  "kernelspec": {
   "display_name": "Python 3",
   "language": "python",
   "name": "python3"
  },
  "language_info": {
   "codemirror_mode": {
    "name": "ipython",
    "version": 2
   },
   "file_extension": ".py",
   "mimetype": "text/x-python",
   "name": "python",
   "nbconvert_exporter": "python",
   "pygments_lexer": "ipython2",
   "version": "2.7.6"
  }
 },
 "nbformat": 4,
 "nbformat_minor": 0
}